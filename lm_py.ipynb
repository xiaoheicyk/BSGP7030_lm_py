{
 "cells": [
  {
   "cell_type": "code",
   "execution_count": 20,
   "id": "572eccb8-88fb-4a99-89eb-0dfdf2808287",
   "metadata": {},
   "outputs": [],
   "source": [
    "import pandas as pd\n",
    "import numpy as np\n",
    "import matplotlib.pyplot as plt\n",
    "from sklearn.linear_model import LinearRegression\n",
    "from sklearn.metrics import mean_squared_error, r2_score"
   ]
  },
  {
   "cell_type": "markdown",
   "id": "174c319e-91f2-4d4f-904e-a4280818652e",
   "metadata": {},
   "source": [
    "<font size=\"6\">1. Read and Explore Data</font>"
   ]
  },
  {
   "cell_type": "code",
   "execution_count": 3,
   "id": "b75c70d8-4ce7-4725-bd10-8d4bebeb1f20",
   "metadata": {},
   "outputs": [
    {
     "data": {
      "text/html": [
       "<div>\n",
       "<style scoped>\n",
       "    .dataframe tbody tr th:only-of-type {\n",
       "        vertical-align: middle;\n",
       "    }\n",
       "\n",
       "    .dataframe tbody tr th {\n",
       "        vertical-align: top;\n",
       "    }\n",
       "\n",
       "    .dataframe thead th {\n",
       "        text-align: right;\n",
       "    }\n",
       "</style>\n",
       "<table border=\"1\" class=\"dataframe\">\n",
       "  <thead>\n",
       "    <tr style=\"text-align: right;\">\n",
       "      <th></th>\n",
       "      <th>y</th>\n",
       "      <th>x</th>\n",
       "    </tr>\n",
       "  </thead>\n",
       "  <tbody>\n",
       "    <tr>\n",
       "      <th>0</th>\n",
       "      <td>6.8102</td>\n",
       "      <td>9.8492</td>\n",
       "    </tr>\n",
       "    <tr>\n",
       "      <th>1</th>\n",
       "      <td>9.8437</td>\n",
       "      <td>11.1450</td>\n",
       "    </tr>\n",
       "    <tr>\n",
       "      <th>2</th>\n",
       "      <td>4.9767</td>\n",
       "      <td>5.1209</td>\n",
       "    </tr>\n",
       "    <tr>\n",
       "      <th>3</th>\n",
       "      <td>5.0006</td>\n",
       "      <td>8.1085</td>\n",
       "    </tr>\n",
       "    <tr>\n",
       "      <th>4</th>\n",
       "      <td>3.5047</td>\n",
       "      <td>3.5599</td>\n",
       "    </tr>\n",
       "  </tbody>\n",
       "</table>\n",
       "</div>"
      ],
      "text/plain": [
       "        y        x\n",
       "0  6.8102   9.8492\n",
       "1  9.8437  11.1450\n",
       "2  4.9767   5.1209\n",
       "3  5.0006   8.1085\n",
       "4  3.5047   3.5599"
      ]
     },
     "execution_count": 3,
     "metadata": {},
     "output_type": "execute_result"
    }
   ],
   "source": [
    "df = pd.read_csv(\"regrex1.csv\")\n",
    "df.head()"
   ]
  },
  {
   "cell_type": "code",
   "execution_count": 4,
   "id": "50e84955-b99a-40e7-985e-77b27de99f48",
   "metadata": {},
   "outputs": [
    {
     "data": {
      "text/plain": [
       "(30, 2)"
      ]
     },
     "execution_count": 4,
     "metadata": {},
     "output_type": "execute_result"
    }
   ],
   "source": [
    "# Shape of dataframe\n",
    "df.shape"
   ]
  },
  {
   "cell_type": "markdown",
   "id": "ebba23a1-43d0-4a1f-925f-1aff2e2d6b41",
   "metadata": {},
   "source": [
    "<font size=\"6\">2. Scatter Plot on Data</font>"
   ]
  },
  {
   "cell_type": "code",
   "execution_count": null,
   "id": "af9fb9cf-3f05-460c-956a-96d4bf07c2fb",
   "metadata": {},
   "outputs": [],
   "source": []
  },
  {
   "cell_type": "code",
   "execution_count": 5,
   "id": "0b4569b0-1fd9-46ac-8eff-880502c2baee",
   "metadata": {},
   "outputs": [],
   "source": [
    "# Define x and y\n",
    "X = df[[\"x\"]]\n",
    "y = df[[\"y\"]]"
   ]
  },
  {
   "cell_type": "code",
   "execution_count": 40,
   "id": "2d5e7c58-a668-4cba-a49b-4ccd78966a09",
   "metadata": {},
   "outputs": [
    {
     "data": {
      "image/png": "[encoded data removed]",
      "text/plain": [
       "<Figure size 640x480 with 1 Axes>"
      ]
     },
     "metadata": {},
     "output_type": "display_data"
    }
   ],
   "source": [
    "# Scatter plot\n",
    "plt.scatter(X,y,s=5,c=\"green\")\n",
    "plt.title(\"Scatter plot on original data\")\n",
    "plt.xlabel(\"X\")\n",
    "plt.ylabel(\"Y\")\n",
    "plt.show()"
   ]
  },
  {
   "cell_type": "markdown",
   "id": "d125bdbf-3fc7-4e2b-a2f7-78a58775d181",
   "metadata": {},
   "source": [
    "<font size=\"6\">3. Linear Model on Data and Evaluation</font>"
   ]
  },
  {
   "cell_type": "code",
   "execution_count": 7,
   "id": "8214a053-af95-44fe-a04f-5d65509f5366",
   "metadata": {},
   "outputs": [],
   "source": [
    "# Linear model\n",
    "reg = LinearRegression().fit(X, y)"
   ]
  },
  {
   "cell_type": "code",
   "execution_count": 59,
   "id": "b34a5407-542f-4dbb-abfa-e87e4bf433f4",
   "metadata": {},
   "outputs": [
    {
     "data": {
      "text/plain": [
       "0.9293641551281743"
      ]
     },
     "execution_count": 59,
     "metadata": {},
     "output_type": "execute_result"
    }
   ],
   "source": [
    "# R squared score\n",
    "reg.score(X,y)"
   ]
  },
  {
   "cell_type": "code",
   "execution_count": 63,
   "id": "7a4ecc82-3bce-4892-9616-96f93864a905",
   "metadata": {},
   "outputs": [
    {
     "data": {
      "text/plain": [
       "array([[0.46906228]])"
      ]
     },
     "execution_count": 63,
     "metadata": {},
     "output_type": "execute_result"
    }
   ],
   "source": [
    "# Slope (coefficient)\n",
    "reg.coef_"
   ]
  },
  {
   "cell_type": "code",
   "execution_count": 64,
   "id": "6dd07f51-7ff1-412e-bf92-28f12cf2afef",
   "metadata": {},
   "outputs": [
    {
     "data": {
      "text/plain": [
       "array([2.24814277])"
      ]
     },
     "execution_count": 64,
     "metadata": {},
     "output_type": "execute_result"
    }
   ],
   "source": [
    "# intercept\n",
    "reg.intercept_"
   ]
  },
  {
   "cell_type": "markdown",
   "id": "ff25b860",
   "metadata": {},
   "source": [
    "<font size=\"6\">4. Predication</font>"
   ]
  },
  {
   "cell_type": "code",
   "execution_count": 21,
   "id": "aea16e53",
   "metadata": {},
   "outputs": [
    {
     "data": {
      "text/plain": [
       "array([[6.86803101],\n",
       "       [7.47584191],\n",
       "       [4.65016382],\n",
       "       [6.05153429],\n",
       "       [3.91795759]])"
      ]
     },
     "execution_count": 21,
     "metadata": {},
     "output_type": "execute_result"
    }
   ],
   "source": [
    "pred_y = reg.predict(X)\n",
    "pred_y[:5]"
   ]
  },
  {
   "cell_type": "code",
   "execution_count": 53,
   "id": "ef0ba5d3",
   "metadata": {},
   "outputs": [
    {
     "data": {
      "image/png": "[encoded data removed]",
      "text/plain": [
       "<Figure size 640x480 with 1 Axes>"
      ]
     },
     "metadata": {},
     "output_type": "display_data"
    }
   ],
   "source": [
    "plt.scatter(X,y,s=5,c=\"green\")\n",
    "plt.scatter(X,pred_y,s=5,c=\"red\")\n",
    "plt.plot(X,pred_y,linestyle=\"dotted\",c=\"yellow\")\n",
    "plt.legend([\"Actual data\", \"Predicted data\",\"Linear Regression\"], loc=\"lower right\")\n",
    "plt.title(\"Scatter plot and Linear Regression\")\n",
    "plt.xlabel(\"X\")\n",
    "plt.ylabel(\"Y\")\n",
    "plt.show()"
   ]
  },
  {
   "cell_type": "code",
   "execution_count": 25,
   "id": "cc9e1fa1",
   "metadata": {},
   "outputs": [
    {
     "name": "stdout",
     "output_type": "stream",
     "text": [
      "Mean squared error: 0.72\n"
     ]
    }
   ],
   "source": [
    "# Mean squre error\n",
    "print(\"Mean squared error: %.2f\" % mean_squared_error(y,pred_y))"
   ]
  },
  {
   "cell_type": "code",
   "execution_count": 26,
   "id": "f0867eb3",
   "metadata": {},
   "outputs": [
    {
     "name": "stdout",
     "output_type": "stream",
     "text": [
      "Coefficient of determination: 0.93\n"
     ]
    }
   ],
   "source": [
    "print(\"Coefficient of determination: %.2f\" %r2_score(y,pred_y))"
   ]
  },
  {
   "cell_type": "code",
   "execution_count": null,
   "id": "972887f2",
   "metadata": {},
   "outputs": [],
   "source": []
  }
 ],
 "metadata": {
  "kernelspec": {
   "display_name": "Python 3 (ipykernel)",
   "language": "python",
   "name": "python3"
  },
  "language_info": {
   "codemirror_mode": {
    "name": "ipython",
    "version": 3
   },
   "file_extension": ".py",
   "mimetype": "text/x-python",
   "name": "python",
   "nbconvert_exporter": "python",
   "pygments_lexer": "ipython3",
   "version": "3.11.5"
  }
 },
 "nbformat": 4,
 "nbformat_minor": 5
}
